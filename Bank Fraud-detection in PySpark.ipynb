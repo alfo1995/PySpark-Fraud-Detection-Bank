{
 "cells": [
  {
   "cell_type": "markdown",
   "metadata": {},
   "source": [
    "# Fraud Detection kaggle competition\n",
    "\n",
    "### Using PySpark\n",
    "\n",
    "#### Author: Alfonso D'Amelio"
   ]
  },
  {
   "cell_type": "code",
   "execution_count": 2,
   "metadata": {},
   "outputs": [
    {
     "name": "stdout",
     "output_type": "stream",
     "text": [
      "root\n",
      " |-- Time: decimal(10,0) (nullable = true)\n",
      " |-- V1: double (nullable = true)\n",
      " |-- V2: double (nullable = true)\n",
      " |-- V3: double (nullable = true)\n",
      " |-- V4: double (nullable = true)\n",
      " |-- V5: double (nullable = true)\n",
      " |-- V6: double (nullable = true)\n",
      " |-- V7: double (nullable = true)\n",
      " |-- V8: double (nullable = true)\n",
      " |-- V9: double (nullable = true)\n",
      " |-- V10: double (nullable = true)\n",
      " |-- V11: double (nullable = true)\n",
      " |-- V12: double (nullable = true)\n",
      " |-- V13: double (nullable = true)\n",
      " |-- V14: double (nullable = true)\n",
      " |-- V15: double (nullable = true)\n",
      " |-- V16: double (nullable = true)\n",
      " |-- V17: double (nullable = true)\n",
      " |-- V18: double (nullable = true)\n",
      " |-- V19: double (nullable = true)\n",
      " |-- V20: double (nullable = true)\n",
      " |-- V21: double (nullable = true)\n",
      " |-- V22: double (nullable = true)\n",
      " |-- V23: double (nullable = true)\n",
      " |-- V24: double (nullable = true)\n",
      " |-- V25: double (nullable = true)\n",
      " |-- V26: double (nullable = true)\n",
      " |-- V27: double (nullable = true)\n",
      " |-- V28: double (nullable = true)\n",
      " |-- Amount: double (nullable = true)\n",
      " |-- Class: integer (nullable = true)\n",
      "\n"
     ]
    }
   ],
   "source": [
    "from pyspark.sql import SparkSession\n",
    "spark = SparkSession.builder.appName('ml-bank').getOrCreate()\n",
    "df = spark.read.csv('creditcard.csv', header = True, inferSchema = True)\n",
    "df.printSchema()\n",
    "cols=df.columns"
   ]
  },
  {
   "cell_type": "code",
   "execution_count": 3,
   "metadata": {},
   "outputs": [
    {
     "data": {
      "text/html": [
       "<div>\n",
       "<style scoped>\n",
       "    .dataframe tbody tr th:only-of-type {\n",
       "        vertical-align: middle;\n",
       "    }\n",
       "\n",
       "    .dataframe tbody tr th {\n",
       "        vertical-align: top;\n",
       "    }\n",
       "\n",
       "    .dataframe thead th {\n",
       "        text-align: right;\n",
       "    }\n",
       "</style>\n",
       "<table border=\"1\" class=\"dataframe\">\n",
       "  <thead>\n",
       "    <tr style=\"text-align: right;\">\n",
       "      <th></th>\n",
       "      <th>summary</th>\n",
       "      <th>Time</th>\n",
       "      <th>V1</th>\n",
       "      <th>V2</th>\n",
       "      <th>V3</th>\n",
       "      <th>V4</th>\n",
       "      <th>V5</th>\n",
       "      <th>V6</th>\n",
       "      <th>V7</th>\n",
       "      <th>V8</th>\n",
       "      <th>...</th>\n",
       "      <th>V21</th>\n",
       "      <th>V22</th>\n",
       "      <th>V23</th>\n",
       "      <th>V24</th>\n",
       "      <th>V25</th>\n",
       "      <th>V26</th>\n",
       "      <th>V27</th>\n",
       "      <th>V28</th>\n",
       "      <th>Amount</th>\n",
       "      <th>Class</th>\n",
       "    </tr>\n",
       "  </thead>\n",
       "  <tbody>\n",
       "    <tr>\n",
       "      <th>0</th>\n",
       "      <td>count</td>\n",
       "      <td>284807</td>\n",
       "      <td>284807</td>\n",
       "      <td>284807</td>\n",
       "      <td>284807</td>\n",
       "      <td>284807</td>\n",
       "      <td>284807</td>\n",
       "      <td>284807</td>\n",
       "      <td>284807</td>\n",
       "      <td>284807</td>\n",
       "      <td>...</td>\n",
       "      <td>284807</td>\n",
       "      <td>284807</td>\n",
       "      <td>284807</td>\n",
       "      <td>284807</td>\n",
       "      <td>284807</td>\n",
       "      <td>284807</td>\n",
       "      <td>284807</td>\n",
       "      <td>284807</td>\n",
       "      <td>284807</td>\n",
       "      <td>284807</td>\n",
       "    </tr>\n",
       "    <tr>\n",
       "      <th>1</th>\n",
       "      <td>mean</td>\n",
       "      <td>94813.8596</td>\n",
       "      <td>5.1093952144318264E-17</td>\n",
       "      <td>2.554697607215913E-16</td>\n",
       "      <td>-8.634877912389787E-15</td>\n",
       "      <td>3.5254826979579603E-15</td>\n",
       "      <td>2.0437580857727305E-15</td>\n",
       "      <td>2.088465293899009E-15</td>\n",
       "      <td>-2.2864543584582423E-15</td>\n",
       "      <td>-3.5765766501022783E-16</td>\n",
       "      <td>...</td>\n",
       "      <td>2.554697607215913E-16</td>\n",
       "      <td>8.941441625255696E-16</td>\n",
       "      <td>7.664092821647739E-16</td>\n",
       "      <td>4.515428020754126E-15</td>\n",
       "      <td>1.5455920523656276E-15</td>\n",
       "      <td>1.737194372906821E-15</td>\n",
       "      <td>-3.5456408587648983E-16</td>\n",
       "      <td>-1.311278381203793E-16</td>\n",
       "      <td>88.3496192509508</td>\n",
       "      <td>0.001727485630620034</td>\n",
       "    </tr>\n",
       "    <tr>\n",
       "      <th>2</th>\n",
       "      <td>stddev</td>\n",
       "      <td>47488.145954566906</td>\n",
       "      <td>1.9586958038574882</td>\n",
       "      <td>1.651308579476995</td>\n",
       "      <td>1.5162550051777774</td>\n",
       "      <td>1.4158685749409223</td>\n",
       "      <td>1.3802467340314277</td>\n",
       "      <td>1.3322710897575698</td>\n",
       "      <td>1.2370935981826607</td>\n",
       "      <td>1.1943529026691984</td>\n",
       "      <td>...</td>\n",
       "      <td>0.7345240143713111</td>\n",
       "      <td>0.7257015604409144</td>\n",
       "      <td>0.6244602955949919</td>\n",
       "      <td>0.605647067827159</td>\n",
       "      <td>0.5212780705409377</td>\n",
       "      <td>0.48222701326105777</td>\n",
       "      <td>0.4036324949650308</td>\n",
       "      <td>0.33008326416025036</td>\n",
       "      <td>250.12010924018736</td>\n",
       "      <td>0.04152718963546528</td>\n",
       "    </tr>\n",
       "    <tr>\n",
       "      <th>3</th>\n",
       "      <td>min</td>\n",
       "      <td>0</td>\n",
       "      <td>-56.407509631329</td>\n",
       "      <td>-72.7157275629303</td>\n",
       "      <td>-48.3255893623954</td>\n",
       "      <td>-5.68317119816995</td>\n",
       "      <td>-113.743306711146</td>\n",
       "      <td>-26.1605059358433</td>\n",
       "      <td>-43.5572415712451</td>\n",
       "      <td>-73.2167184552674</td>\n",
       "      <td>...</td>\n",
       "      <td>-34.8303821448146</td>\n",
       "      <td>-10.933143697655</td>\n",
       "      <td>-44.8077352037913</td>\n",
       "      <td>-2.83662691870341</td>\n",
       "      <td>-10.2953970749851</td>\n",
       "      <td>-2.60455055280817</td>\n",
       "      <td>-22.5656793207827</td>\n",
       "      <td>-15.4300839055349</td>\n",
       "      <td>0.0</td>\n",
       "      <td>0</td>\n",
       "    </tr>\n",
       "    <tr>\n",
       "      <th>4</th>\n",
       "      <td>max</td>\n",
       "      <td>172792</td>\n",
       "      <td>2.45492999121121</td>\n",
       "      <td>22.0577289904909</td>\n",
       "      <td>9.38255843282114</td>\n",
       "      <td>16.8753440335975</td>\n",
       "      <td>34.8016658766686</td>\n",
       "      <td>73.3016255459646</td>\n",
       "      <td>120.589493945238</td>\n",
       "      <td>20.0072083651213</td>\n",
       "      <td>...</td>\n",
       "      <td>27.2028391573154</td>\n",
       "      <td>10.5030900899454</td>\n",
       "      <td>22.5284116897749</td>\n",
       "      <td>4.58454913689817</td>\n",
       "      <td>7.51958867870916</td>\n",
       "      <td>3.5173456116238</td>\n",
       "      <td>31.6121981061363</td>\n",
       "      <td>33.8478078188831</td>\n",
       "      <td>25691.16</td>\n",
       "      <td>1</td>\n",
       "    </tr>\n",
       "  </tbody>\n",
       "</table>\n",
       "<p>5 rows × 32 columns</p>\n",
       "</div>"
      ],
      "text/plain": [
       "  summary                Time                      V1                     V2  \\\n",
       "0   count              284807                  284807                 284807   \n",
       "1    mean          94813.8596  5.1093952144318264E-17  2.554697607215913E-16   \n",
       "2  stddev  47488.145954566906      1.9586958038574882      1.651308579476995   \n",
       "3     min                   0        -56.407509631329      -72.7157275629303   \n",
       "4     max              172792        2.45492999121121       22.0577289904909   \n",
       "\n",
       "                       V3                      V4                      V5  \\\n",
       "0                  284807                  284807                  284807   \n",
       "1  -8.634877912389787E-15  3.5254826979579603E-15  2.0437580857727305E-15   \n",
       "2      1.5162550051777774      1.4158685749409223      1.3802467340314277   \n",
       "3       -48.3255893623954       -5.68317119816995       -113.743306711146   \n",
       "4        9.38255843282114        16.8753440335975        34.8016658766686   \n",
       "\n",
       "                      V6                       V7                       V8  \\\n",
       "0                 284807                   284807                   284807   \n",
       "1  2.088465293899009E-15  -2.2864543584582423E-15  -3.5765766501022783E-16   \n",
       "2     1.3322710897575698       1.2370935981826607       1.1943529026691984   \n",
       "3      -26.1605059358433        -43.5572415712451        -73.2167184552674   \n",
       "4       73.3016255459646         120.589493945238         20.0072083651213   \n",
       "\n",
       "           ...                             V21                    V22  \\\n",
       "0          ...                          284807                 284807   \n",
       "1          ...           2.554697607215913E-16  8.941441625255696E-16   \n",
       "2          ...              0.7345240143713111     0.7257015604409144   \n",
       "3          ...               -34.8303821448146       -10.933143697655   \n",
       "4          ...                27.2028391573154       10.5030900899454   \n",
       "\n",
       "                     V23                    V24                     V25  \\\n",
       "0                 284807                 284807                  284807   \n",
       "1  7.664092821647739E-16  4.515428020754126E-15  1.5455920523656276E-15   \n",
       "2     0.6244602955949919      0.605647067827159      0.5212780705409377   \n",
       "3      -44.8077352037913      -2.83662691870341       -10.2953970749851   \n",
       "4       22.5284116897749       4.58454913689817        7.51958867870916   \n",
       "\n",
       "                     V26                      V27                     V28  \\\n",
       "0                 284807                   284807                  284807   \n",
       "1  1.737194372906821E-15  -3.5456408587648983E-16  -1.311278381203793E-16   \n",
       "2    0.48222701326105777       0.4036324949650308     0.33008326416025036   \n",
       "3      -2.60455055280817        -22.5656793207827       -15.4300839055349   \n",
       "4        3.5173456116238         31.6121981061363        33.8478078188831   \n",
       "\n",
       "               Amount                 Class  \n",
       "0              284807                284807  \n",
       "1    88.3496192509508  0.001727485630620034  \n",
       "2  250.12010924018736   0.04152718963546528  \n",
       "3                 0.0                     0  \n",
       "4            25691.16                     1  \n",
       "\n",
       "[5 rows x 32 columns]"
      ]
     },
     "execution_count": 3,
     "metadata": {},
     "output_type": "execute_result"
    }
   ],
   "source": [
    "df.describe().toPandas()"
   ]
  },
  {
   "cell_type": "code",
   "execution_count": 4,
   "metadata": {},
   "outputs": [
    {
     "data": {
      "text/html": [
       "<div>\n",
       "<style scoped>\n",
       "    .dataframe tbody tr th:only-of-type {\n",
       "        vertical-align: middle;\n",
       "    }\n",
       "\n",
       "    .dataframe tbody tr th {\n",
       "        vertical-align: top;\n",
       "    }\n",
       "\n",
       "    .dataframe thead th {\n",
       "        text-align: right;\n",
       "    }\n",
       "</style>\n",
       "<table border=\"1\" class=\"dataframe\">\n",
       "  <thead>\n",
       "    <tr style=\"text-align: right;\">\n",
       "      <th></th>\n",
       "      <th>summary</th>\n",
       "      <th>Amount</th>\n",
       "    </tr>\n",
       "  </thead>\n",
       "  <tbody>\n",
       "    <tr>\n",
       "      <th>0</th>\n",
       "      <td>count</td>\n",
       "      <td>284807</td>\n",
       "    </tr>\n",
       "    <tr>\n",
       "      <th>1</th>\n",
       "      <td>mean</td>\n",
       "      <td>88.3496192509508</td>\n",
       "    </tr>\n",
       "    <tr>\n",
       "      <th>2</th>\n",
       "      <td>stddev</td>\n",
       "      <td>250.12010924018736</td>\n",
       "    </tr>\n",
       "    <tr>\n",
       "      <th>3</th>\n",
       "      <td>min</td>\n",
       "      <td>0.0</td>\n",
       "    </tr>\n",
       "    <tr>\n",
       "      <th>4</th>\n",
       "      <td>max</td>\n",
       "      <td>25691.16</td>\n",
       "    </tr>\n",
       "  </tbody>\n",
       "</table>\n",
       "</div>"
      ],
      "text/plain": [
       "  summary              Amount\n",
       "0   count              284807\n",
       "1    mean    88.3496192509508\n",
       "2  stddev  250.12010924018736\n",
       "3     min                 0.0\n",
       "4     max            25691.16"
      ]
     },
     "execution_count": 4,
     "metadata": {},
     "output_type": "execute_result"
    }
   ],
   "source": [
    "df.describe('Amount').toPandas()"
   ]
  },
  {
   "cell_type": "code",
   "execution_count": 5,
   "metadata": {},
   "outputs": [
    {
     "data": {
      "text/html": [
       "<div>\n",
       "<style scoped>\n",
       "    .dataframe tbody tr th:only-of-type {\n",
       "        vertical-align: middle;\n",
       "    }\n",
       "\n",
       "    .dataframe tbody tr th {\n",
       "        vertical-align: top;\n",
       "    }\n",
       "\n",
       "    .dataframe thead th {\n",
       "        text-align: right;\n",
       "    }\n",
       "</style>\n",
       "<table border=\"1\" class=\"dataframe\">\n",
       "  <thead>\n",
       "    <tr style=\"text-align: right;\">\n",
       "      <th></th>\n",
       "      <th>summary</th>\n",
       "      <th>Time</th>\n",
       "    </tr>\n",
       "  </thead>\n",
       "  <tbody>\n",
       "    <tr>\n",
       "      <th>0</th>\n",
       "      <td>count</td>\n",
       "      <td>284807</td>\n",
       "    </tr>\n",
       "    <tr>\n",
       "      <th>1</th>\n",
       "      <td>mean</td>\n",
       "      <td>94813.8596</td>\n",
       "    </tr>\n",
       "    <tr>\n",
       "      <th>2</th>\n",
       "      <td>stddev</td>\n",
       "      <td>47488.145954566906</td>\n",
       "    </tr>\n",
       "    <tr>\n",
       "      <th>3</th>\n",
       "      <td>min</td>\n",
       "      <td>0</td>\n",
       "    </tr>\n",
       "    <tr>\n",
       "      <th>4</th>\n",
       "      <td>max</td>\n",
       "      <td>172792</td>\n",
       "    </tr>\n",
       "  </tbody>\n",
       "</table>\n",
       "</div>"
      ],
      "text/plain": [
       "  summary                Time\n",
       "0   count              284807\n",
       "1    mean          94813.8596\n",
       "2  stddev  47488.145954566906\n",
       "3     min                   0\n",
       "4     max              172792"
      ]
     },
     "execution_count": 5,
     "metadata": {},
     "output_type": "execute_result"
    }
   ],
   "source": [
    "df.describe('Time').toPandas()"
   ]
  },
  {
   "cell_type": "markdown",
   "metadata": {},
   "source": [
    "**Let's see if the dataset is balanced**"
   ]
  },
  {
   "cell_type": "code",
   "execution_count": 6,
   "metadata": {},
   "outputs": [
    {
     "name": "stdout",
     "output_type": "stream",
     "text": [
      "+-----+------+\n",
      "|Class| count|\n",
      "+-----+------+\n",
      "|    1|   492|\n",
      "|    0|284315|\n",
      "+-----+------+\n",
      "\n"
     ]
    }
   ],
   "source": [
    "df.groupBy('Class').count().show()"
   ]
  },
  {
   "cell_type": "markdown",
   "metadata": {},
   "source": [
    "As we expected, most of the transactions belong to the class 0 (not fraudulent):\n",
    "\n",
    "The percentage of \"*Not Fraud*\" in the data available is roughly equals to $99,8\\%$\n",
    "\n",
    "* For sure, we will need Oversampling technique to reduce overfitting and underfitting"
   ]
  },
  {
   "cell_type": "code",
   "execution_count": 10,
   "metadata": {},
   "outputs": [
    {
     "data": {
      "image/png": "[encoded data removed]",
      "text/plain": [
       "<Figure size 432x288 with 1 Axes>"
      ]
     },
     "metadata": {
      "needs_background": "light"
     },
     "output_type": "display_data"
    }
   ],
   "source": [
    "import seaborn as sns\n",
    "import matplotlib.pyplot as plt\n",
    "label_class=df.groupBy('Class').count().toPandas()\n",
    "sns.barplot(x=['Fraud','No Fraud',],y=label_class['count'])\n",
    "plt.xlabel('classes')\n",
    "plt.ylabel('count')\n",
    "plt.show()"
   ]
  },
  {
   "cell_type": "markdown",
   "metadata": {},
   "source": [
    "#### After a bit of statistics and visualization, let's start our **ML analysis**"
   ]
  },
  {
   "cell_type": "code",
   "execution_count": 11,
   "metadata": {},
   "outputs": [],
   "source": [
    "from pyspark.ml.feature import StandardScaler\n",
    "from pyspark.ml.feature import VectorAssembler\n",
    "import pandas as pd"
   ]
  },
  {
   "cell_type": "code",
   "execution_count": 12,
   "metadata": {},
   "outputs": [
    {
     "name": "stdout",
     "output_type": "stream",
     "text": [
      "+------+\n",
      "|Amount|\n",
      "+------+\n",
      "|149.62|\n",
      "|  2.69|\n",
      "|378.66|\n",
      "| 123.5|\n",
      "| 69.99|\n",
      "|  3.67|\n",
      "|  4.99|\n",
      "|  40.8|\n",
      "|  93.2|\n",
      "|  3.68|\n",
      "|   7.8|\n",
      "|  9.99|\n",
      "| 121.5|\n",
      "|  27.5|\n",
      "|  58.8|\n",
      "| 15.99|\n",
      "| 12.99|\n",
      "|  0.89|\n",
      "|  46.8|\n",
      "|   5.0|\n",
      "+------+\n",
      "only showing top 20 rows\n",
      "\n"
     ]
    }
   ],
   "source": [
    "df.select('Amount').show()"
   ]
  },
  {
   "cell_type": "code",
   "execution_count": 13,
   "metadata": {},
   "outputs": [],
   "source": [
    "amt_assembler = VectorAssembler(inputCols = ['Amount'],outputCol = \"vec_Amount\")\n",
    "data = amt_assembler.transform(df)"
   ]
  },
  {
   "cell_type": "code",
   "execution_count": 14,
   "metadata": {},
   "outputs": [
    {
     "name": "stdout",
     "output_type": "stream",
     "text": [
      "root\n",
      " |-- Time: decimal(10,0) (nullable = true)\n",
      " |-- V1: double (nullable = true)\n",
      " |-- V2: double (nullable = true)\n",
      " |-- V3: double (nullable = true)\n",
      " |-- V4: double (nullable = true)\n",
      " |-- V5: double (nullable = true)\n",
      " |-- V6: double (nullable = true)\n",
      " |-- V7: double (nullable = true)\n",
      " |-- V8: double (nullable = true)\n",
      " |-- V9: double (nullable = true)\n",
      " |-- V10: double (nullable = true)\n",
      " |-- V11: double (nullable = true)\n",
      " |-- V12: double (nullable = true)\n",
      " |-- V13: double (nullable = true)\n",
      " |-- V14: double (nullable = true)\n",
      " |-- V15: double (nullable = true)\n",
      " |-- V16: double (nullable = true)\n",
      " |-- V17: double (nullable = true)\n",
      " |-- V18: double (nullable = true)\n",
      " |-- V19: double (nullable = true)\n",
      " |-- V20: double (nullable = true)\n",
      " |-- V21: double (nullable = true)\n",
      " |-- V22: double (nullable = true)\n",
      " |-- V23: double (nullable = true)\n",
      " |-- V24: double (nullable = true)\n",
      " |-- V25: double (nullable = true)\n",
      " |-- V26: double (nullable = true)\n",
      " |-- V27: double (nullable = true)\n",
      " |-- V28: double (nullable = true)\n",
      " |-- Amount: double (nullable = true)\n",
      " |-- Class: integer (nullable = true)\n",
      " |-- vec_Amount: vector (nullable = true)\n",
      "\n"
     ]
    }
   ],
   "source": [
    "data.printSchema()"
   ]
  },
  {
   "cell_type": "code",
   "execution_count": 15,
   "metadata": {
    "scrolled": true
   },
   "outputs": [
    {
     "name": "stdout",
     "output_type": "stream",
     "text": [
      "+----------+\n",
      "|vec_Amount|\n",
      "+----------+\n",
      "|  [149.62]|\n",
      "|    [2.69]|\n",
      "|  [378.66]|\n",
      "|   [123.5]|\n",
      "|   [69.99]|\n",
      "|    [3.67]|\n",
      "|    [4.99]|\n",
      "|    [40.8]|\n",
      "|    [93.2]|\n",
      "|    [3.68]|\n",
      "|     [7.8]|\n",
      "|    [9.99]|\n",
      "|   [121.5]|\n",
      "|    [27.5]|\n",
      "|    [58.8]|\n",
      "|   [15.99]|\n",
      "|   [12.99]|\n",
      "|    [0.89]|\n",
      "|    [46.8]|\n",
      "|     [5.0]|\n",
      "+----------+\n",
      "only showing top 20 rows\n",
      "\n"
     ]
    }
   ],
   "source": [
    "data = data.withColumnRenamed(\"Class\", \"label\")\n",
    "data.select('vec_Amount').show()"
   ]
  },
  {
   "cell_type": "markdown",
   "metadata": {},
   "source": [
    "**Standardization 'Amount' class**"
   ]
  },
  {
   "cell_type": "code",
   "execution_count": 16,
   "metadata": {},
   "outputs": [],
   "source": [
    "standardizer = StandardScaler(withMean=True,withStd=True,inputCol='vec_Amount',outputCol='std_Amount')\n",
    "model = standardizer.fit(data)\n",
    "data = model.transform(data)"
   ]
  },
  {
   "cell_type": "code",
   "execution_count": 17,
   "metadata": {},
   "outputs": [
    {
     "name": "stdout",
     "output_type": "stream",
     "text": [
      "+--------------------+\n",
      "|          std_Amount|\n",
      "+--------------------+\n",
      "|[0.24496383331670...|\n",
      "|[-0.3424739398649...|\n",
      "|[1.1606838875569376]|\n",
      "|[0.14053400526590...|\n",
      "|[-0.0734032113879...|\n",
      "|[-0.3385558222734...|\n",
      "|[-0.3332783577624...|\n",
      "|[-0.1901071425059...|\n",
      "|[0.01939220626363...|\n",
      "|[-0.3385158414816...|\n",
      "|[-0.3220437552807...|\n",
      "|[-0.3132879618874...|\n",
      "|[0.13253784691591...|\n",
      "|[-0.2432815955333...|\n",
      "|[-0.1181417173560...|\n",
      "|[-0.2892994868375...|\n",
      "|[-0.3012937243624...|\n",
      "|[-0.349670482379903]|\n",
      "|[-0.1661186674560...|\n",
      "|[-0.3332383769706...|\n",
      "+--------------------+\n",
      "only showing top 20 rows\n",
      "\n"
     ]
    }
   ],
   "source": [
    "data.select('std_Amount').show()"
   ]
  },
  {
   "cell_type": "markdown",
   "metadata": {},
   "source": [
    "**Now let's fit *VectorAssembler* we will vectorize the feature set.**\n",
    "\n",
    "Of course on the columns we needed."
   ]
  },
  {
   "cell_type": "code",
   "execution_count": 18,
   "metadata": {},
   "outputs": [],
   "source": [
    "sel_cols =['V1','V2','V3','V4','V5','V6','V7','V8','V9','V10','V11','V12','V13','V14','V15','V16','V17','V18','V19','V20','V21','V22','V23','V24','V25','V26','V27','V28','std_Amount']\n",
    "assembler = VectorAssembler(inputCols = sel_cols,outputCol = \"features_vectorize\")\n",
    "data = assembler.transform(data)"
   ]
  },
  {
   "cell_type": "code",
   "execution_count": 19,
   "metadata": {},
   "outputs": [
    {
     "data": {
      "text/html": [
       "<div>\n",
       "<style scoped>\n",
       "    .dataframe tbody tr th:only-of-type {\n",
       "        vertical-align: middle;\n",
       "    }\n",
       "\n",
       "    .dataframe tbody tr th {\n",
       "        vertical-align: top;\n",
       "    }\n",
       "\n",
       "    .dataframe thead th {\n",
       "        text-align: right;\n",
       "    }\n",
       "</style>\n",
       "<table border=\"1\" class=\"dataframe\">\n",
       "  <thead>\n",
       "    <tr style=\"text-align: right;\">\n",
       "      <th></th>\n",
       "      <th>Time</th>\n",
       "      <th>V1</th>\n",
       "      <th>V2</th>\n",
       "      <th>V3</th>\n",
       "      <th>V4</th>\n",
       "      <th>V5</th>\n",
       "      <th>V6</th>\n",
       "      <th>V7</th>\n",
       "      <th>V8</th>\n",
       "      <th>V9</th>\n",
       "      <th>...</th>\n",
       "      <th>V24</th>\n",
       "      <th>V25</th>\n",
       "      <th>V26</th>\n",
       "      <th>V27</th>\n",
       "      <th>V28</th>\n",
       "      <th>Amount</th>\n",
       "      <th>label</th>\n",
       "      <th>vec_Amount</th>\n",
       "      <th>std_Amount</th>\n",
       "      <th>features_vectorize</th>\n",
       "    </tr>\n",
       "  </thead>\n",
       "  <tbody>\n",
       "    <tr>\n",
       "      <th>0</th>\n",
       "      <td>0</td>\n",
       "      <td>-1.359807</td>\n",
       "      <td>-0.072781</td>\n",
       "      <td>2.536347</td>\n",
       "      <td>1.378155</td>\n",
       "      <td>-0.338321</td>\n",
       "      <td>0.462388</td>\n",
       "      <td>0.239599</td>\n",
       "      <td>0.098698</td>\n",
       "      <td>0.363787</td>\n",
       "      <td>...</td>\n",
       "      <td>0.066928</td>\n",
       "      <td>0.128539</td>\n",
       "      <td>-0.189115</td>\n",
       "      <td>0.133558</td>\n",
       "      <td>-0.021053</td>\n",
       "      <td>149.62</td>\n",
       "      <td>0</td>\n",
       "      <td>[149.62]</td>\n",
       "      <td>[0.24496383331670152]</td>\n",
       "      <td>[-1.3598071336738, -0.0727811733098497, 2.5363...</td>\n",
       "    </tr>\n",
       "    <tr>\n",
       "      <th>1</th>\n",
       "      <td>0</td>\n",
       "      <td>1.191857</td>\n",
       "      <td>0.266151</td>\n",
       "      <td>0.166480</td>\n",
       "      <td>0.448154</td>\n",
       "      <td>0.060018</td>\n",
       "      <td>-0.082361</td>\n",
       "      <td>-0.078803</td>\n",
       "      <td>0.085102</td>\n",
       "      <td>-0.255425</td>\n",
       "      <td>...</td>\n",
       "      <td>-0.339846</td>\n",
       "      <td>0.167170</td>\n",
       "      <td>0.125895</td>\n",
       "      <td>-0.008983</td>\n",
       "      <td>0.014724</td>\n",
       "      <td>2.69</td>\n",
       "      <td>0</td>\n",
       "      <td>[2.69]</td>\n",
       "      <td>[-0.3424739398649169]</td>\n",
       "      <td>[1.19185711131486, 0.26615071205963, 0.1664801...</td>\n",
       "    </tr>\n",
       "    <tr>\n",
       "      <th>2</th>\n",
       "      <td>1</td>\n",
       "      <td>-1.358354</td>\n",
       "      <td>-1.340163</td>\n",
       "      <td>1.773209</td>\n",
       "      <td>0.379780</td>\n",
       "      <td>-0.503198</td>\n",
       "      <td>1.800499</td>\n",
       "      <td>0.791461</td>\n",
       "      <td>0.247676</td>\n",
       "      <td>-1.514654</td>\n",
       "      <td>...</td>\n",
       "      <td>-0.689281</td>\n",
       "      <td>-0.327642</td>\n",
       "      <td>-0.139097</td>\n",
       "      <td>-0.055353</td>\n",
       "      <td>-0.059752</td>\n",
       "      <td>378.66</td>\n",
       "      <td>0</td>\n",
       "      <td>[378.66]</td>\n",
       "      <td>[1.1606838875569376]</td>\n",
       "      <td>[-1.35835406159823, -1.34016307473609, 1.77320...</td>\n",
       "    </tr>\n",
       "    <tr>\n",
       "      <th>3</th>\n",
       "      <td>1</td>\n",
       "      <td>-0.966272</td>\n",
       "      <td>-0.185226</td>\n",
       "      <td>1.792993</td>\n",
       "      <td>-0.863291</td>\n",
       "      <td>-0.010309</td>\n",
       "      <td>1.247203</td>\n",
       "      <td>0.237609</td>\n",
       "      <td>0.377436</td>\n",
       "      <td>-1.387024</td>\n",
       "      <td>...</td>\n",
       "      <td>-1.175575</td>\n",
       "      <td>0.647376</td>\n",
       "      <td>-0.221929</td>\n",
       "      <td>0.062723</td>\n",
       "      <td>0.061458</td>\n",
       "      <td>123.50</td>\n",
       "      <td>0</td>\n",
       "      <td>[123.5]</td>\n",
       "      <td>[0.14053400526590268]</td>\n",
       "      <td>[-0.966271711572087, -0.185226008082898, 1.792...</td>\n",
       "    </tr>\n",
       "    <tr>\n",
       "      <th>4</th>\n",
       "      <td>2</td>\n",
       "      <td>-1.158233</td>\n",
       "      <td>0.877737</td>\n",
       "      <td>1.548718</td>\n",
       "      <td>0.403034</td>\n",
       "      <td>-0.407193</td>\n",
       "      <td>0.095921</td>\n",
       "      <td>0.592941</td>\n",
       "      <td>-0.270533</td>\n",
       "      <td>0.817739</td>\n",
       "      <td>...</td>\n",
       "      <td>0.141267</td>\n",
       "      <td>-0.206010</td>\n",
       "      <td>0.502292</td>\n",
       "      <td>0.219422</td>\n",
       "      <td>0.215153</td>\n",
       "      <td>69.99</td>\n",
       "      <td>0</td>\n",
       "      <td>[69.99]</td>\n",
       "      <td>[-0.07340321138793524]</td>\n",
       "      <td>[-1.15823309349523, 0.877736754848451, 1.54871...</td>\n",
       "    </tr>\n",
       "  </tbody>\n",
       "</table>\n",
       "<p>5 rows × 34 columns</p>\n",
       "</div>"
      ],
      "text/plain": [
       "  Time        V1        V2        V3        V4        V5        V6        V7  \\\n",
       "0    0 -1.359807 -0.072781  2.536347  1.378155 -0.338321  0.462388  0.239599   \n",
       "1    0  1.191857  0.266151  0.166480  0.448154  0.060018 -0.082361 -0.078803   \n",
       "2    1 -1.358354 -1.340163  1.773209  0.379780 -0.503198  1.800499  0.791461   \n",
       "3    1 -0.966272 -0.185226  1.792993 -0.863291 -0.010309  1.247203  0.237609   \n",
       "4    2 -1.158233  0.877737  1.548718  0.403034 -0.407193  0.095921  0.592941   \n",
       "\n",
       "         V8        V9                        ...                          \\\n",
       "0  0.098698  0.363787                        ...                           \n",
       "1  0.085102 -0.255425                        ...                           \n",
       "2  0.247676 -1.514654                        ...                           \n",
       "3  0.377436 -1.387024                        ...                           \n",
       "4 -0.270533  0.817739                        ...                           \n",
       "\n",
       "        V24       V25       V26       V27       V28  Amount  label  \\\n",
       "0  0.066928  0.128539 -0.189115  0.133558 -0.021053  149.62      0   \n",
       "1 -0.339846  0.167170  0.125895 -0.008983  0.014724    2.69      0   \n",
       "2 -0.689281 -0.327642 -0.139097 -0.055353 -0.059752  378.66      0   \n",
       "3 -1.175575  0.647376 -0.221929  0.062723  0.061458  123.50      0   \n",
       "4  0.141267 -0.206010  0.502292  0.219422  0.215153   69.99      0   \n",
       "\n",
       "   vec_Amount              std_Amount  \\\n",
       "0    [149.62]   [0.24496383331670152]   \n",
       "1      [2.69]   [-0.3424739398649169]   \n",
       "2    [378.66]    [1.1606838875569376]   \n",
       "3     [123.5]   [0.14053400526590268]   \n",
       "4     [69.99]  [-0.07340321138793524]   \n",
       "\n",
       "                                  features_vectorize  \n",
       "0  [-1.3598071336738, -0.0727811733098497, 2.5363...  \n",
       "1  [1.19185711131486, 0.26615071205963, 0.1664801...  \n",
       "2  [-1.35835406159823, -1.34016307473609, 1.77320...  \n",
       "3  [-0.966271711572087, -0.185226008082898, 1.792...  \n",
       "4  [-1.15823309349523, 0.877736754848451, 1.54871...  \n",
       "\n",
       "[5 rows x 34 columns]"
      ]
     },
     "execution_count": 19,
     "metadata": {},
     "output_type": "execute_result"
    }
   ],
   "source": [
    "pd.DataFrame(data.take(5),columns=data.columns)"
   ]
  },
  {
   "cell_type": "markdown",
   "metadata": {},
   "source": [
    "**Let's split the data and train a first simple classifier...**\n",
    "* **Hold-out** Train $80\\%$ and Test $20\\%$\n",
    "* Fit **Decision tree** \n",
    "* evaluate with **AUC-ROC** curve scores"
   ]
  },
  {
   "cell_type": "code",
   "execution_count": 20,
   "metadata": {},
   "outputs": [
    {
     "name": "stdout",
     "output_type": "stream",
     "text": [
      "Training Dataset Count: 227649\n",
      "Test Dataset Count: 57158\n"
     ]
    }
   ],
   "source": [
    "train, test = data.randomSplit([0.8, 0.2], seed = 2018)\n",
    "print(\"Training Dataset Count: \" + str(train.count()))\n",
    "print(\"Test Dataset Count: \" + str(test.count()))"
   ]
  },
  {
   "cell_type": "markdown",
   "metadata": {},
   "source": [
    "Plot the distribution of the label class:"
   ]
  },
  {
   "cell_type": "code",
   "execution_count": 21,
   "metadata": {},
   "outputs": [],
   "source": [
    "train_label=train.groupBy('label').count().toPandas()\n",
    "test_label=test.groupBy('label').count().toPandas()"
   ]
  },
  {
   "cell_type": "code",
   "execution_count": 35,
   "metadata": {},
   "outputs": [],
   "source": [
    "items1=[i for i in train_label['count'].values]\n",
    "items2=[i for i in test_label['count'].values]\n",
    "items=items1+items2"
   ]
  },
  {
   "cell_type": "code",
   "execution_count": 23,
   "metadata": {},
   "outputs": [
    {
     "data": {
      "image/png": "[encoded data removed]",
      "text/plain": [
       "<Figure size 432x288 with 1 Axes>"
      ]
     },
     "metadata": {
      "needs_background": "light"
     },
     "output_type": "display_data"
    }
   ],
   "source": [
    "classes=['train Fraud',\"train NoFraud\",\"test Fraud\",\"test NoFraud\"]\n",
    "import seaborn as sns\n",
    "import matplotlib.pyplot as plt\n",
    "sns.barplot(x=classes,y=items)\n",
    "plt.xlabel('classes')\n",
    "plt.ylabel('count')\n",
    "plt.show()"
   ]
  },
  {
   "cell_type": "code",
   "execution_count": 24,
   "metadata": {},
   "outputs": [],
   "source": [
    "from pyspark.ml.classification import DecisionTreeClassifier\n",
    "\n",
    "Dt = DecisionTreeClassifier(featuresCol = 'features_vectorize', labelCol = 'label')\n",
    "DtModel = Dt.fit(train)"
   ]
  },
  {
   "cell_type": "code",
   "execution_count": 25,
   "metadata": {},
   "outputs": [],
   "source": [
    "from pyspark.ml.evaluation import BinaryClassificationEvaluator\n",
    "predictions = DtModel.transform(test)"
   ]
  },
  {
   "cell_type": "code",
   "execution_count": 26,
   "metadata": {},
   "outputs": [],
   "source": [
    "selected = predictions.select(\"label\")"
   ]
  },
  {
   "cell_type": "code",
   "execution_count": 31,
   "metadata": {},
   "outputs": [
    {
     "name": "stdout",
     "output_type": "stream",
     "text": [
      "Test Area Under ROC 0.7157698507022006 {Param(parent='BinaryClassificationEvaluator_2e208a2811a9', name='metricName', doc='metric name in evaluation (areaUnderROC|areaUnderPR)'): 'areaUnderROC'}\n"
     ]
    }
   ],
   "source": [
    "evaluator = BinaryClassificationEvaluator()\n",
    "print('Test Area Under ROC', evaluator.evaluate(predictions),{evaluator.metricName: \"areaUnderROC\"})"
   ]
  },
  {
   "cell_type": "markdown",
   "metadata": {},
   "source": [
    "**Let's try  Logistic Regression wich is more strong robust to class imbalance**"
   ]
  },
  {
   "cell_type": "code",
   "execution_count": 47,
   "metadata": {},
   "outputs": [
    {
     "name": "stdout",
     "output_type": "stream",
     "text": [
      "Test Area Under ROC 0.9673413455351312 {Param(parent='BinaryClassificationEvaluator_807b946af9de', name='metricName', doc='metric name in evaluation (areaUnderROC|areaUnderPR)'): 'areaUnderROC'}\n"
     ]
    }
   ],
   "source": [
    "from pyspark.ml.classification import LogisticRegression\n",
    "\n",
    "Lr = LogisticRegression(featuresCol = 'features_vectorize', labelCol = 'label')\n",
    "LrModel = Lr.fit(train)\n",
    "\n",
    "from pyspark.ml.evaluation import BinaryClassificationEvaluator\n",
    "\n",
    "predictions = LrModel.transform(test)\n",
    "\n",
    "selected = predictions.select(\"label\")\n",
    "\n",
    "evaluator = BinaryClassificationEvaluator()\n",
    "print('Test Area Under ROC', evaluator.evaluate(predictions),{evaluator.metricName: \"areaUnderROC\"})"
   ]
  },
  {
   "cell_type": "markdown",
   "metadata": {},
   "source": [
    "Just a bit of improvement...\n",
    "\n",
    "At this point using Logistic Regression we could use a **class-weights**, useful to weight the result."
   ]
  },
  {
   "cell_type": "code",
   "execution_count": 42,
   "metadata": {},
   "outputs": [
    {
     "name": "stdout",
     "output_type": "stream",
     "text": [
      "BalancingRatio of the class \"Fraud\" in the Train = 0.001779054597208861\n",
      "BalancingRatio of the class \"NoFraud\" in the Train = 0.9982209454027912\n"
     ]
    }
   ],
   "source": [
    "BalancingRatio= (405/227649)\n",
    "print('BalancingRatio of the class \"Fraud\" in the Train = {}'.format(BalancingRatio))\n",
    "print('BalancingRatio of the class \"NoFraud\" in the Train = {}'.format(1-BalancingRatio))"
   ]
  },
  {
   "cell_type": "markdown",
   "metadata": {},
   "source": [
    "**Apply class-weights**"
   ]
  },
  {
   "cell_type": "code",
   "execution_count": 46,
   "metadata": {},
   "outputs": [
    {
     "name": "stdout",
     "output_type": "stream",
     "text": [
      "+------------------+\n",
      "|      classWeights|\n",
      "+------------------+\n",
      "|0.9982209454027912|\n",
      "|0.9982209454027912|\n",
      "|0.9982209454027912|\n",
      "|0.9982209454027912|\n",
      "|0.9982209454027912|\n",
      "|0.9982209454027912|\n",
      "|0.9982209454027912|\n",
      "|0.9982209454027912|\n",
      "|0.9982209454027912|\n",
      "|0.9982209454027912|\n",
      "+------------------+\n",
      "only showing top 10 rows\n",
      "\n"
     ]
    }
   ],
   "source": [
    "from pyspark.sql.functions import col, expr, when\n",
    "\n",
    "train=train.withColumn(\"classWeights\", when(train.label == 1,BalancingRatio).otherwise(1-BalancingRatio))\n",
    "train.select(\"classWeights\").show(10)"
   ]
  },
  {
   "cell_type": "code",
   "execution_count": 48,
   "metadata": {},
   "outputs": [
    {
     "name": "stdout",
     "output_type": "stream",
     "text": [
      "Test Area Under ROC 0.9375508667665777 {Param(parent='BinaryClassificationEvaluator_4702dac74544', name='metricName', doc='metric name in evaluation (areaUnderROC|areaUnderPR)'): 'areaUnderROC'}\n"
     ]
    }
   ],
   "source": [
    "from pyspark.ml.classification import LogisticRegression\n",
    "\n",
    "Lr_weight = LogisticRegression(featuresCol = 'features_vectorize', labelCol = 'label',weightCol=\"classWeights\")\n",
    "LrModel_weight = Lr_weight.fit(train)\n",
    "\n",
    "from pyspark.ml.evaluation import BinaryClassificationEvaluator\n",
    "\n",
    "predictions = LrModel_weight.transform(test)\n",
    "\n",
    "selected = predictions.select(\"label\")\n",
    "\n",
    "evaluator = BinaryClassificationEvaluator()\n",
    "print('Test Area Under ROC', evaluator.evaluate(predictions),{evaluator.metricName: \"areaUnderROC\"})"
   ]
  },
  {
   "cell_type": "code",
   "execution_count": 49,
   "metadata": {},
   "outputs": [
    {
     "name": "stdout",
     "output_type": "stream",
     "text": [
      "Test Area Under ROC 0.9375508667666195 {Param(parent='BinaryClassificationEvaluator_4702dac74544', name='metricName', doc='metric name in evaluation (areaUnderROC|areaUnderPR)'): 'areaUnderPR'}\n"
     ]
    }
   ],
   "source": [
    "print('Test Area Under ROC', evaluator.evaluate(predictions),{evaluator.metricName: \"areaUnderPR\"})"
   ]
  },
  {
   "cell_type": "markdown",
   "metadata": {},
   "source": [
    "**In the end let's improve the results using Cross Validation**"
   ]
  },
  {
   "cell_type": "code",
   "execution_count": 51,
   "metadata": {},
   "outputs": [],
   "source": [
    "from pyspark.ml.tuning import ParamGridBuilder, CrossValidator\n",
    "paramGrid = ParamGridBuilder()\\\n",
    "    .addGrid(Lr_weight.aggregationDepth,[2,5,10])\\\n",
    "    .addGrid(Lr_weight.elasticNetParam,[0.0, 0.5, 1.0])\\\n",
    "    .addGrid(Lr_weight.fitIntercept,[False, True])\\\n",
    "    .addGrid(Lr_weight.maxIter,[10, 100, 1000])\\\n",
    "    .addGrid(Lr_weight.regParam,[0.01, 0.5, 2.0]) \\\n",
    "    .build()"
   ]
  },
  {
   "cell_type": "code",
   "execution_count": 53,
   "metadata": {},
   "outputs": [
    {
     "name": "stdout",
     "output_type": "stream",
     "text": [
      "The area under ROC for train set after CV  is 0.9726635491171539\n",
      "The area under ROC for test set after CV  is 0.9616452746801467\n"
     ]
    }
   ],
   "source": [
    "# Create 5-fold CrossValidator\n",
    "cv = CrossValidator(estimator=Lr_weight, estimatorParamMaps=paramGrid, evaluator=evaluator, numFolds=5)\n",
    "# Run cross validations\n",
    "cvModel = cv.fit(train)\n",
    "# this will likely take a fair amount of time because of the amount of models that we're creating and testing\n",
    "predict_train=cvModel.transform(train)\n",
    "predict_test=cvModel.transform(test)\n",
    "print(\"The area under ROC for train set after CV  is {}\".format(evaluator.evaluate(predict_train)))\n",
    "print(\"The area under ROC for test set after CV  is {}\".format(evaluator.evaluate(predict_test)))"
   ]
  },
  {
   "cell_type": "markdown",
   "metadata": {},
   "source": [
    "**We got a really good results**:\n",
    "* AUC- ROC for test set after CV  is $96\\%$"
   ]
  }
 ],
 "metadata": {
  "kernelspec": {
   "display_name": "Python 3",
   "language": "python",
   "name": "python3"
  },
  "language_info": {
   "codemirror_mode": {
    "name": "ipython",
    "version": 3
   },
   "file_extension": ".py",
   "mimetype": "text/x-python",
   "name": "python",
   "nbconvert_exporter": "python",
   "pygments_lexer": "ipython3",
   "version": "3.7.1"
  }
 },
 "nbformat": 4,
 "nbformat_minor": 2
}
